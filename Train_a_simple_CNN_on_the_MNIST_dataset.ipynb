{
  "nbformat": 4,
  "nbformat_minor": 0,
  "metadata": {
    "colab": {
      "name": "Train a simple CNN on the MNIST dataset.ipynb",
      "version": "0.3.2",
      "provenance": [],
      "include_colab_link": true
    },
    "kernelspec": {
      "name": "python3",
      "display_name": "Python 3"
    }
  },
  "cells": [
    {
      "cell_type": "markdown",
      "metadata": {
        "id": "view-in-github",
        "colab_type": "text"
      },
      "source": [
        "[View in Colaboratory](https://colab.research.google.com/github/RaulMedeiros/test_cpp_cuda_codes/blob/master/Train_a_simple_CNN_on_the_MNIST_dataset.ipynb)"
      ]
    },
    {
      "metadata": {
        "id": "--rpgax6V2X9",
        "colab_type": "text"
      },
      "cell_type": "markdown",
      "source": [
        "# Trains a simple convnet on the MNIST dataset.\n",
        "Gets to 99.25% test accuracy after 12 epochs\n",
        "(there is still a lot of margin for parameter tuning).\n",
        "\n",
        "https://github.com/keras-team/keras/blob/master/examples/mnist_cnn.py"
      ]
    },
    {
      "metadata": {
        "id": "eSVE7bR44afI",
        "colab_type": "code",
        "colab": {
          "base_uri": "https://localhost:8080/",
          "height": 69
        },
        "outputId": "628c1174-35b2-4783-a998-12f561d32da5"
      },
      "cell_type": "code",
      "source": [
        "from __future__ import print_function\n",
        "import keras\n",
        "from keras.datasets import mnist\n",
        "from keras.models import Sequential\n",
        "from keras.layers import Dense, Dropout, Flatten\n",
        "from keras.layers import Conv2D, MaxPooling2D\n",
        "from keras import backend as K\n",
        "\n",
        "batch_size = 128\n",
        "num_classes = 10\n",
        "epochs = 12\n",
        "\n",
        "# input image dimensions\n",
        "img_rows, img_cols = 28, 28\n",
        "\n",
        "# the data, split between train and test sets\n",
        "(x_train, y_train), (x_test, y_test) = mnist.load_data()"
      ],
      "execution_count": 1,
      "outputs": [
        {
          "output_type": "stream",
          "text": [
            "Using TensorFlow backend.\n"
          ],
          "name": "stderr"
        },
        {
          "output_type": "stream",
          "text": [
            "Downloading data from https://s3.amazonaws.com/img-datasets/mnist.npz\n",
            "11493376/11490434 [==============================] - 3s 0us/step\n"
          ],
          "name": "stdout"
        }
      ]
    },
    {
      "metadata": {
        "id": "sM1YzkRb5CdG",
        "colab_type": "code",
        "colab": {
          "base_uri": "https://localhost:8080/",
          "height": 347
        },
        "outputId": "fdc8de66-edeb-468e-bdf4-90e46f566b82"
      },
      "cell_type": "code",
      "source": [
        "import matplotlib.pyplot as plt\n",
        "import numpy as np\n",
        "plt.imshow(x_train[np.random.randint(len(x_train))])\n",
        "plt.grid(False)\n",
        "plt.show()"
      ],
      "execution_count": 2,
      "outputs": [
        {
          "output_type": "display_data",
          "data": {
            "image/png": "[encoded data removed]",
            "text/plain": [
              "<matplotlib.figure.Figure at 0x7f4ee3af5828>"
            ]
          },
          "metadata": {
            "tags": []
          }
        }
      ]
    },
    {
      "metadata": {
        "id": "679ZdYD7gewj",
        "colab_type": "code",
        "colab": {
          "base_uri": "https://localhost:8080/",
          "height": 0
        },
        "outputId": "aed95bd1-a1a3-4e2e-cd8c-34f060e180d6"
      },
      "cell_type": "code",
      "source": [
        "if K.image_data_format() == 'channels_first':\n",
        "    x_train = x_train.reshape(x_train.shape[0], 1, img_rows, img_cols)\n",
        "    x_test = x_test.reshape(x_test.shape[0], 1, img_rows, img_cols)\n",
        "    input_shape = (1, img_rows, img_cols)\n",
        "else:\n",
        "    x_train = x_train.reshape(x_train.shape[0], img_rows, img_cols, 1)\n",
        "    x_test = x_test.reshape(x_test.shape[0], img_rows, img_cols, 1)\n",
        "    input_shape = (img_rows, img_cols, 1)"
      ],
      "execution_count": 3,
      "outputs": []
    },
    {
      "metadata": {
        "id": "Hrc6Nl3egg45",
        "colab_type": "code",
        "colab": {
          "base_uri": "https://localhost:8080/",
          "height": 69
        },
        "outputId": "02294330-67be-4b5e-b033-9dc090fc4f62"
      },
      "cell_type": "code",
      "source": [
        "x_train = x_train.astype('float32')\n",
        "x_test = x_test.astype('float32')\n",
        "x_train /= 255\n",
        "x_test /= 255\n",
        "print('x_train shape:', x_train.shape)\n",
        "print(x_train.shape[0], 'train samples')\n",
        "print(x_test.shape[0], 'test samples')\n",
        "\n",
        "# convert class vectors to binary class matrices\n",
        "y_train = keras.utils.to_categorical(y_train, num_classes)\n",
        "y_test = keras.utils.to_categorical(y_test, num_classes)"
      ],
      "execution_count": 4,
      "outputs": [
        {
          "output_type": "stream",
          "text": [
            "x_train shape: (60000, 28, 28, 1)\n",
            "60000 train samples\n",
            "10000 test samples\n"
          ],
          "name": "stdout"
        }
      ]
    },
    {
      "metadata": {
        "id": "skJI1dkr4l6z",
        "colab_type": "code",
        "colab": {
          "base_uri": "https://localhost:8080/",
          "height": 0
        },
        "outputId": "45d6563f-014f-48ea-83a8-2e57e37d5bd8"
      },
      "cell_type": "code",
      "source": [
        "model = Sequential()\n",
        "model.add(Conv2D(32, kernel_size=(3, 3),\n",
        "                 activation='relu',\n",
        "                 input_shape=input_shape))\n",
        "model.add(Conv2D(64, (3, 3), activation='relu'))\n",
        "model.add(MaxPooling2D(pool_size=(2, 2)))\n",
        "model.add(Dropout(0.25))\n",
        "model.add(Flatten())\n",
        "model.add(Dense(128, activation='relu'))\n",
        "model.add(Dropout(0.5))\n",
        "model.add(Dense(num_classes, activation='softmax'))\n"
      ],
      "execution_count": 5,
      "outputs": []
    },
    {
      "metadata": {
        "id": "T-wY2B40gmgz",
        "colab_type": "code",
        "colab": {
          "base_uri": "https://localhost:8080/",
          "height": 506
        },
        "outputId": "45d91156-65ce-41b8-ff51-11d0e5140f77"
      },
      "cell_type": "code",
      "source": [
        "%%time\n",
        "model.compile(loss=keras.losses.categorical_crossentropy,\n",
        "              optimizer=keras.optimizers.Adadelta(),\n",
        "              metrics=['accuracy'])\n",
        "\n",
        "model.fit(x_train, y_train,\n",
        "          batch_size=batch_size,\n",
        "          epochs=epochs,\n",
        "          verbose=1,\n",
        "          validation_data=(x_test, y_test))"
      ],
      "execution_count": 7,
      "outputs": [
        {
          "output_type": "stream",
          "text": [
            "Train on 60000 samples, validate on 10000 samples\n",
            "Epoch 1/12\n",
            "60000/60000 [==============================] - 11s 187us/step - loss: 0.0658 - acc: 0.9804 - val_loss: 0.0354 - val_acc: 0.9887\n",
            "Epoch 2/12\n",
            "60000/60000 [==============================] - 11s 178us/step - loss: 0.0514 - acc: 0.9848 - val_loss: 0.0310 - val_acc: 0.9892\n",
            "Epoch 3/12\n",
            "24576/60000 [===========>..................] - ETA: 6s - loss: 0.0460 - acc: 0.9860"
          ],
          "name": "stdout"
        },
        {
          "output_type": "stream",
          "text": [
            "60000/60000 [==============================] - 11s 178us/step - loss: 0.0465 - acc: 0.9859 - val_loss: 0.0275 - val_acc: 0.9905\n",
            "Epoch 4/12\n",
            "60000/60000 [==============================] - 11s 179us/step - loss: 0.0413 - acc: 0.9879 - val_loss: 0.0280 - val_acc: 0.9901\n",
            "Epoch 5/12\n",
            "51712/60000 [========================>.....] - ETA: 1s - loss: 0.0352 - acc: 0.9892"
          ],
          "name": "stdout"
        },
        {
          "output_type": "stream",
          "text": [
            "60000/60000 [==============================] - 11s 179us/step - loss: 0.0364 - acc: 0.9890 - val_loss: 0.0281 - val_acc: 0.9907\n",
            "Epoch 6/12\n",
            "60000/60000 [==============================] - 11s 180us/step - loss: 0.0333 - acc: 0.9899 - val_loss: 0.0268 - val_acc: 0.9911\n",
            "Epoch 7/12\n",
            "60000/60000 [==============================] - 11s 179us/step - loss: 0.0325 - acc: 0.9902 - val_loss: 0.0280 - val_acc: 0.9907\n",
            "Epoch 8/12\n",
            "  512/60000 [..............................] - ETA: 10s - loss: 0.0258 - acc: 0.9883"
          ],
          "name": "stdout"
        },
        {
          "output_type": "stream",
          "text": [
            "60000/60000 [==============================] - 11s 179us/step - loss: 0.0304 - acc: 0.9906 - val_loss: 0.0280 - val_acc: 0.9908\n",
            "Epoch 9/12\n",
            "60000/60000 [==============================] - 11s 179us/step - loss: 0.0281 - acc: 0.9912 - val_loss: 0.0306 - val_acc: 0.9915\n",
            "Epoch 10/12\n",
            "47744/60000 [======================>.......] - ETA: 2s - loss: 0.0263 - acc: 0.9919"
          ],
          "name": "stdout"
        },
        {
          "output_type": "stream",
          "text": [
            "60000/60000 [==============================] - 11s 179us/step - loss: 0.0264 - acc: 0.9919 - val_loss: 0.0307 - val_acc: 0.9914\n",
            "Epoch 11/12\n",
            "60000/60000 [==============================] - 11s 179us/step - loss: 0.0244 - acc: 0.9925 - val_loss: 0.0300 - val_acc: 0.9906\n",
            "Epoch 12/12\n",
            "59392/60000 [============================>.] - ETA: 0s - loss: 0.0245 - acc: 0.9923"
          ],
          "name": "stdout"
        },
        {
          "output_type": "stream",
          "text": [
            "60000/60000 [==============================] - 11s 178us/step - loss: 0.0244 - acc: 0.9923 - val_loss: 0.0334 - val_acc: 0.9905\n",
            "CPU times: user 1min 23s, sys: 44.6 s, total: 2min 7s\n",
            "Wall time: 2min 9s\n"
          ],
          "name": "stdout"
        }
      ]
    },
    {
      "metadata": {
        "id": "gUP0OW1QJfPN",
        "colab_type": "code",
        "colab": {
          "base_uri": "https://localhost:8080/",
          "height": 506
        },
        "outputId": "4c15dd16-3ca9-4e0a-b94b-1c56b61a5bbb"
      },
      "cell_type": "code",
      "source": [
        "%%time\n",
        "model.compile(loss=keras.losses.categorical_crossentropy,\n",
        "              optimizer=keras.optimizers.Adadelta(),\n",
        "              metrics=['accuracy'])\n",
        "\n",
        "model.fit(x_train, y_train,\n",
        "          batch_size=batch_size,\n",
        "          epochs=epochs,\n",
        "          verbose=1,\n",
        "          validation_data=(x_test, y_test))"
      ],
      "execution_count": 6,
      "outputs": [
        {
          "output_type": "stream",
          "text": [
            "Train on 60000 samples, validate on 10000 samples\n",
            "Epoch 1/12\n",
            "60000/60000 [==============================] - 164s 3ms/step - loss: 0.2497 - acc: 0.9238 - val_loss: 0.0552 - val_acc: 0.9824\n",
            "Epoch 2/12\n",
            "14080/60000 [======>.......................] - ETA: 2:01 - loss: 0.0920 - acc: 0.9740"
          ],
          "name": "stdout"
        },
        {
          "output_type": "stream",
          "text": [
            "60000/60000 [==============================] - 162s 3ms/step - loss: 0.0860 - acc: 0.9746 - val_loss: 0.0412 - val_acc: 0.9864\n",
            "Epoch 3/12\n",
            "39808/60000 [==================>...........] - ETA: 51s - loss: 0.0675 - acc: 0.9797"
          ],
          "name": "stdout"
        },
        {
          "output_type": "stream",
          "text": [
            "60000/60000 [==============================] - 159s 3ms/step - loss: 0.0664 - acc: 0.9802 - val_loss: 0.0333 - val_acc: 0.9879\n",
            "Epoch 4/12\n",
            "49664/60000 [=======================>......] - ETA: 26s - loss: 0.0541 - acc: 0.9835"
          ],
          "name": "stdout"
        },
        {
          "output_type": "stream",
          "text": [
            "60000/60000 [==============================] - 161s 3ms/step - loss: 0.0546 - acc: 0.9832 - val_loss: 0.0311 - val_acc: 0.9901\n",
            "Epoch 5/12\n",
            "53376/60000 [=========================>....] - ETA: 16s - loss: 0.0455 - acc: 0.9861"
          ],
          "name": "stdout"
        },
        {
          "output_type": "stream",
          "text": [
            "60000/60000 [==============================] - 157s 3ms/step - loss: 0.0458 - acc: 0.9859 - val_loss: 0.0335 - val_acc: 0.9893\n",
            "Epoch 6/12\n",
            "54784/60000 [==========================>...] - ETA: 13s - loss: 0.0416 - acc: 0.9875"
          ],
          "name": "stdout"
        },
        {
          "output_type": "stream",
          "text": [
            "60000/60000 [==============================] - 157s 3ms/step - loss: 0.0411 - acc: 0.9877 - val_loss: 0.0258 - val_acc: 0.9910\n",
            "Epoch 7/12\n",
            "55296/60000 [==========================>...] - ETA: 11s - loss: 0.0371 - acc: 0.9887"
          ],
          "name": "stdout"
        },
        {
          "output_type": "stream",
          "text": [
            "60000/60000 [==============================] - 159s 3ms/step - loss: 0.0378 - acc: 0.9885 - val_loss: 0.0261 - val_acc: 0.9915\n",
            "Epoch 8/12\n",
            "55552/60000 [==========================>...] - ETA: 11s - loss: 0.0336 - acc: 0.9890"
          ],
          "name": "stdout"
        },
        {
          "output_type": "stream",
          "text": [
            "60000/60000 [==============================] - 161s 3ms/step - loss: 0.0336 - acc: 0.9892 - val_loss: 0.0300 - val_acc: 0.9907\n",
            "Epoch 9/12\n",
            "55552/60000 [==========================>...] - ETA: 11s - loss: 0.0319 - acc: 0.9901"
          ],
          "name": "stdout"
        },
        {
          "output_type": "stream",
          "text": [
            "60000/60000 [==============================] - 164s 3ms/step - loss: 0.0314 - acc: 0.9903 - val_loss: 0.0267 - val_acc: 0.9909\n",
            "Epoch 10/12\n",
            "55296/60000 [==========================>...] - ETA: 12s - loss: 0.0296 - acc: 0.9907"
          ],
          "name": "stdout"
        },
        {
          "output_type": "stream",
          "text": [
            "60000/60000 [==============================] - 166s 3ms/step - loss: 0.0299 - acc: 0.9906 - val_loss: 0.0292 - val_acc: 0.9915\n",
            "Epoch 11/12\n",
            "55296/60000 [==========================>...] - ETA: 12s - loss: 0.0284 - acc: 0.9913"
          ],
          "name": "stdout"
        },
        {
          "output_type": "stream",
          "text": [
            "60000/60000 [==============================] - 163s 3ms/step - loss: 0.0287 - acc: 0.9914 - val_loss: 0.0285 - val_acc: 0.9910\n",
            "Epoch 12/12\n",
            "55296/60000 [==========================>...] - ETA: 12s - loss: 0.0264 - acc: 0.9920"
          ],
          "name": "stdout"
        },
        {
          "output_type": "stream",
          "text": [
            "60000/60000 [==============================] - 161s 3ms/step - loss: 0.0264 - acc: 0.9920 - val_loss: 0.0269 - val_acc: 0.9914\n",
            "CPU times: user 1h 1min 19s, sys: 51.6 s, total: 1h 2min 11s\n",
            "Wall time: 32min 15s\n"
          ],
          "name": "stdout"
        }
      ]
    },
    {
      "metadata": {
        "id": "ZWR0QVkW5RoK",
        "colab_type": "code",
        "colab": {
          "base_uri": "https://localhost:8080/",
          "height": 0
        },
        "outputId": "02327b12-82f0-46c0-cfbd-e2a7321b7483"
      },
      "cell_type": "code",
      "source": [
        "score = model.evaluate(x_test, y_test, verbose=0)\n",
        "print('Test loss:', score[0])\n",
        "print('Test accuracy:', score[1])"
      ],
      "execution_count": 3,
      "outputs": []
    }
  ]
}